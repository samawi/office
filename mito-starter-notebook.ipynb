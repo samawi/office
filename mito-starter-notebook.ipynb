{
 "cells": [
  {
   "cell_type": "code",
   "execution_count": 1,
   "id": "c0957234-ba57-4199-adfa-9d17ede0b8f9",
   "metadata": {},
   "outputs": [
    {
     "data": {
      "application/vnd.jupyter.widget-view+json": {
       "model_id": "49c6c379b76c403ba92d882be888ca45",
       "version_major": 2,
       "version_minor": 0
      },
      "text/plain": [
       "MitoWidget(analysis_data_json='{\"analysisName\": \"id-dvyvguwwvb\", \"analysisToReplay\": null, \"code\": [], \"stepSu…"
      ]
     },
     "execution_count": 1,
     "metadata": {},
     "output_type": "execute_result"
    }
   ],
   "source": [
    "# Run this cell to render a mitosheet\n",
    "# See mito's documentation here: https://docs.trymito.io/how-to/creating-a-mitosheet\n",
    "# Join our Discord for support here: https://discord.gg/XdJSZyejJU\n",
    "\n",
    "import mitosheet\n",
    "mitosheet.sheet(analysis_to_replay=\"id-dvyvguwwvb\")"
   ]
  },
  {
   "cell_type": "code",
   "execution_count": null,
   "id": "87045f57-97d0-4023-a520-bd7746e271ea",
   "metadata": {},
   "outputs": [],
   "source": [
    "from mitosheet import *; register_analysis(\"id-dvyvguwwvb\");\n",
    "    \n",
    "# Imported Sheet1 from /Users/mawan/OneDrive/Office/AMG/MBO/MBO 2022/Revenue 2023 to be validated2.xlsx\n",
    "import pandas as pd\n",
    "sheet_df_dictonary = pd.read_excel(r'/Users/mawan/OneDrive/Office/AMG/MBO/MBO 2022/Revenue 2023 to be validated2.xlsx', engine='openpyxl', sheet_name=['Sheet1'], skiprows=0)\n",
    "Sheet1 = sheet_df_dictonary['Sheet1']\n",
    "\n",
    "# Deleted columns Unnamed: 0\n",
    "Sheet1.drop(['Unnamed: 0'], axis=1, inplace=True)\n",
    "\n",
    "# Deleted 10 rows in Sheet1\n",
    "Sheet1.drop(labels=[0, 1, 2, 3, 4, 5, 6, 7, 8, 9], inplace=True)\n",
    "\n",
    "# Promoted row 10 to header in Sheet1\n",
    "Sheet1.columns = Sheet1.loc[10]\n",
    "Sheet1.drop(labels=[10], inplace=True)\n",
    "\n",
    "# Renamed columns 2023\n",
    "Sheet1.rename(columns={2023.0: '2023'}, inplace=True)\n",
    "\n",
    "# Renamed columns 2024\n",
    "Sheet1.rename(columns={2024.0: '2024'}, inplace=True)\n",
    "\n",
    "# Renamed columns 2025\n",
    "Sheet1.rename(columns={2025.0: '2025'}, inplace=True)\n",
    "\n",
    "# Renamed columns 2026\n",
    "Sheet1.rename(columns={2026.0: '2026'}, inplace=True)\n",
    "\n",
    "# Renamed columns 2027\n",
    "Sheet1.rename(columns={2027.0: '2027'}, inplace=True)\n",
    "\n",
    "# Renamed columns 2028\n",
    "Sheet1.rename(columns={2028.0: '2028'}, inplace=True)\n",
    "\n",
    "# Renamed columns 2029\n",
    "Sheet1.rename(columns={2029.0: '2029'}, inplace=True)\n",
    "\n",
    "# Renamed columns 2030\n",
    "Sheet1.rename(columns={2030.0: '2030'}, inplace=True)\n",
    "\n",
    "# Renamed columns 2031\n",
    "Sheet1.rename(columns={2031.0: '2031'}, inplace=True)\n",
    "\n",
    "# Renamed columns 2032\n",
    "Sheet1.rename(columns={2032.0: '2032'}, inplace=True)\n",
    "\n",
    "# Formatted dataframes. Print these styling objects to see the formatted dataframe\n",
    "Sheet1_styler = Sheet1.style\\\n",
    "    .format(\"{:.0f}\", subset=['2023', '2024', '2025', '2026', '2027', '2028', '2029', '2030', '2031', '2032'])\n"
   ]
  }
 ],
 "metadata": {
  "kernelspec": {
   "display_name": "Python 3 (ipykernel)",
   "language": "python",
   "name": "python3"
  },
  "language_info": {
   "codemirror_mode": {
    "name": "ipython",
    "version": 3
   },
   "file_extension": ".py",
   "mimetype": "text/x-python",
   "name": "python",
   "nbconvert_exporter": "python",
   "pygments_lexer": "ipython3",
   "version": "3.10.6"
  },
  "widgets": {
   "application/vnd.jupyter.widget-state+json": {
    "state": {},
    "version_major": 2,
    "version_minor": 0
   }
  }
 },
 "nbformat": 4,
 "nbformat_minor": 5
}
