{
 "cells": [
  {
   "cell_type": "code",
   "execution_count": null,
   "metadata": {},
   "outputs": [],
   "source": [
    "import streamlit as st\n",
    "import pandas as pd\n",
    "import plotly.express as px\n",
    "import altair as alt\n",
    "import numpy as np\n",
    "from st_aggrid import GridOptionsBuilder, AgGrid, GridUpdateMode, DataReturnMode\n",
    "\n",
    "import openpyxl\n",
    "from datetime import datetime, timedelta, date\n",
    "from dateutil.relativedelta import relativedelta\n",
    "from itertools import islice\n"
   ]
  },
  {
   "cell_type": "code",
   "execution_count": null,
   "metadata": {},
   "outputs": [],
   "source": [
    "show_fig = False\n",
    "input_filename_scenario_01 = 'tenancy_list_scenario_01C.xlsx'\n",
    "input_filename_scenario_02 = 'tenancy_list_scenario_02b.xlsx'\n",
    "output_filename = 'Revenue 2024 2033 simulation yearly.xlsx'"
   ]
  },
  {
   "cell_type": "markdown",
   "metadata": {},
   "source": [
    "# Scenario 1"
   ]
  },
  {
   "cell_type": "code",
   "execution_count": null,
   "metadata": {},
   "outputs": [],
   "source": [
    "\n",
    "# open excel file\n",
    "excel_file_01 = input_filename_scenario_01\n",
    "wb_01 = openpyxl.load_workbook(excel_file_01, data_only=True)\n",
    "\n",
    "# getting all sheets\n",
    "sheets = wb_01.sheetnames\n",
    "\n",
    "# getting a particular sheet\n",
    "sheet_params_01 = wb_01[\"params\"]\n",
    "sheet_data_01 = wb_01[\"tenant\"]\n",
    "\n",
    "# reading parameters\n",
    "date_start_01 = sheet_params_01[\"C4\"].value\n",
    "date_end_01 = sheet_params_01['C5'].value\n",
    "area_rentable_office_01 = sheet_params_01[\"C6\"].value"
   ]
  },
  {
   "cell_type": "markdown",
   "metadata": {},
   "source": [
    "# Scenario 2"
   ]
  },
  {
   "cell_type": "code",
   "execution_count": null,
   "metadata": {},
   "outputs": [],
   "source": [
    "\n",
    "# open excel file\n",
    "excel_file_02 = input_filename_scenario_02\n",
    "wb_02 = openpyxl.load_workbook(excel_file_02, data_only=True)\n",
    "\n",
    "# getting all sheets\n",
    "sheets = wb_02.sheetnames\n",
    "\n",
    "# getting a particular sheet\n",
    "sheet_params_02 = wb_02[\"params\"]\n",
    "sheet_data_02 = wb_02[\"tenant\"]\n",
    "\n",
    "# reading parameters\n",
    "date_start_02 = sheet_params_02[\"C4\"].value\n",
    "date_end_02 = sheet_params_02['C5'].value\n",
    "area_rentable_office_02 = sheet_params_02[\"C6\"].value"
   ]
  },
  {
   "cell_type": "markdown",
   "metadata": {},
   "source": [
    "# Definition of read excel worksheet"
   ]
  },
  {
   "cell_type": "code",
   "execution_count": null,
   "metadata": {},
   "outputs": [],
   "source": [
    "\n",
    "# Function: Read a sheet into dataframe\n",
    "# sheet_to_read is type openpyxl.workbook.Workbook\n",
    "def read_worksheet_into_dataframe(sheet_to_read):\n",
    "    data = sheet_to_read.values\n",
    "    cols = next(data)[1:]\n",
    "    data = list(data)\n",
    "    #idx = [r[0] for r in data]\n",
    "    data = (islice(r, 1, None) for r in data)\n",
    "    df_data = pd.DataFrame(data, columns=cols)\n",
    "\n",
    "    # drop rows where column Tenant is Null/NA\n",
    "    df_data = df_data[df_data['Tenant'].notna()]\n",
    "    return df_data\n"
   ]
  },
  {
   "cell_type": "markdown",
   "metadata": {},
   "source": [
    "# Definition of Calculate Revenue"
   ]
  },
  {
   "cell_type": "code",
   "execution_count": null,
   "metadata": {},
   "outputs": [],
   "source": [
    "\n",
    "# Function: Calculate revenue\n",
    "def calculate_revenue(date_start, date_end, area_rentable_office, df_data, product_type, report_sum):\n",
    "\n",
    "    # generate reporting daterange based on start and end dates\n",
    "    my_reporting_date_range = pd.date_range(start=date_start, end=date_end, freq='MS')\n",
    "\n",
    "    # Create report dataframe using datetime index for period\n",
    "    df_report_rental_charge = pd.DataFrame(my_reporting_date_range, columns=['date'])   # Rental revenue\n",
    "    df_report_sc_charge = pd.DataFrame(my_reporting_date_range, columns=['date'])       # Service charge revenue\n",
    "    df_report_sc_charge_rate = pd.DataFrame(my_reporting_date_range, columns=['date'])       # Service charge rate\n",
    "    df_report_occupancy = pd.DataFrame(my_reporting_date_range, columns=['date'])       # Occupancy rate\n",
    "\n",
    "    # Set 'date' as the index\n",
    "    df_report_rental_charge = df_report_rental_charge.set_index('date')\n",
    "    df_report_sc_charge = df_report_sc_charge.set_index('date')\n",
    "    df_report_occupancy = df_report_occupancy.set_index('date')\n",
    "    df_pid_tenant_name_mapping = pd.DataFrame()\n",
    "\n",
    "\n",
    "    # Calculate how much is SC rate based on months and years\n",
    "    # April 2022: 75000\n",
    "    # April 2024: 80000\n",
    "    # April 2026: 85000\n",
    "\n",
    "    sc_data = [\n",
    "        [datetime(2018, 4, 1), 65000.00],\n",
    "        [datetime(2020, 4, 1), 70000.00],\n",
    "        [datetime(2022, 4, 1), 70000.00],\n",
    "        [datetime(2024, 4, 1), 75000.00],\n",
    "        [datetime(2027, 4, 1), 80000.00],\n",
    "        [datetime(2030, 4, 1), 85000.00],\n",
    "        [datetime(2033, 4, 1), 90000.00],\n",
    "    ]\n",
    "\n",
    "    # select rows according to product_type passed in as parameter into this function\n",
    "    options = [product_type]\n",
    "    df_by_product = df_data[df_data['Product_Type'].isin(options)]\n",
    "\n",
    "    substring = '-'\n",
    "\n",
    "    # start revenue calculation\n",
    "    # iterate each row of dataframe\n",
    "    for index, row in df_by_product.iterrows():\n",
    "        vacant = False\n",
    "    \n",
    "        data_area = row['Area']\n",
    "        data_rental_rate = row['Rental_Rate']\n",
    "        data_sc_rate = row['SC_Rate']\n",
    "        data_tenant_name = row['Tenant']\n",
    "        charge_type = row['Chg_Type']\n",
    "\n",
    "        if (data_area == None) or (substring in str(data_area)):\n",
    "            data_area = 0.0\n",
    "\n",
    "        if (data_rental_rate == None) or (substring in str(data_rental_rate)):\n",
    "            data_rental_rate = 0.0\n",
    "\n",
    "        if (data_sc_rate == None) or (substring in str(data_sc_rate)):\n",
    "            data_sc_rate = 0.0\n",
    "\n",
    "        # calculate monthly rental charge\n",
    "        if charge_type == 'A': # if calculation based on area\n",
    "            calc_rental_charge = data_area * data_rental_rate\n",
    "        else: # else lumpsum\n",
    "            calc_rental_charge = data_rental_rate\n",
    "        \n",
    "        # calculate monthly service charge\n",
    "        calc_service_charge = data_area * data_sc_rate\n",
    "\n",
    "        start = row[\"Start\"]\n",
    "        end = row[\"End\"]\n",
    "\n",
    "        # if end is empty, it means it is vacant\n",
    "        if (pd.isna(end)) or (end == '-'):\n",
    "            vacant = True\n",
    "            end = date_end\n",
    "\n",
    "        # generate name for the column\n",
    "        str_level = str(row['Floor']).split('.')[0]\n",
    "        str_zone = str(row['Zone'])\n",
    "        if (str_level == 'None'):\n",
    "            str_level = 'NA'\n",
    "        if (str_zone == 'None'):\n",
    "            str_zone = 'NA'\n",
    "        str_sep = '-'\n",
    "        str_temps = [str(str_level), str(str_zone), str(index)]\n",
    "        str_column_name = str_sep.join(str_temps)\n",
    "        dict01 = {'pid':[str_column_name], 'cust_name':[str_level + '-' + str_zone + '   ' + data_tenant_name]}\n",
    "        df_temp = pd.DataFrame(dict01)\n",
    "        df_pid_tenant_name_mapping = pd.concat([df_pid_tenant_name_mapping, df_temp], ignore_index=True)\n",
    "\n",
    "        # if start is empty, set start equals to date_start parameter\n",
    "        if (pd.isna(start)) or (start == '-'):\n",
    "            start = date_start\n",
    "            \n",
    "        tenant_date_range = pd.date_range(start=start, end=end, freq='MS')\n",
    "\n",
    "        if not vacant:\n",
    "            # create daterange series for tenant period\n",
    "            tenant_date_range = pd.date_range(start=start, end=end, freq='MS')\n",
    "\n",
    "            # generate rental charge dataframe\n",
    "            df_tenant_rental_charge = pd.DataFrame(tenant_date_range, columns=['date']) # create new df with only 1 column called 'date' and fill with the date range from lcd to led\n",
    "            df_tenant_rental_charge = df_tenant_rental_charge.set_index('date') # set 'date' as the index\n",
    "            df_tenant_rental_charge[str_column_name] = calc_rental_charge # add a new column called <num> and fill all with the rental_charge value\n",
    "\n",
    "            # join with report dataframe based on date\n",
    "            df_report_rental_charge = df_report_rental_charge.join(df_tenant_rental_charge, how=\"left\")\n",
    "\n",
    "            # ORIGINAL ----- START\n",
    "            # # generate service charge report\n",
    "            # df_sc_data = pd.DataFrame(data=sc_data, columns=['date', 'sc']).set_index('date')\n",
    "            # sc_date_range = pd.date_range(start=df_sc_data.index.values.min(), end=df_sc_data.index.values.max(), freq='MS')\n",
    "            # df_sc = pd.DataFrame(sc_date_range, columns=['date'])\n",
    "            # df_sc = df_sc.set_index('date')\n",
    "\n",
    "            # for mydate in df_sc_data.index:\n",
    "            #     date1 = mydate\n",
    "            #     date2 = mydate+relativedelta(years=2)-relativedelta(days=1)\n",
    "            # #print('{0} - {1}'.format(date1.strftime('%Y-%m-%d'), date2.strftime('%Y-%m-%d')))\n",
    "            #     if data_sc_rate == 0:\n",
    "            #         df_sc.loc[date1.strftime('%Y-%m-%d'):date2.strftime('%Y-%m-%d'), str_column_name] = 0\n",
    "            #     elif data_sc_rate == 84100:\n",
    "            #         df_sc.loc[date1.strftime('%Y-%m-%d'):date2.strftime('%Y-%m-%d'), str_column_name] = 84100\n",
    "            #     else:\n",
    "            #         df_sc.loc[date1.strftime('%Y-%m-%d'):date2.strftime('%Y-%m-%d'), str_column_name] = df_sc_data.loc[mydate, 'sc']\n",
    "            # ORIGINAL ----- END\n",
    "\n",
    "            # NEW ----- START\n",
    "            # generate service charge report\n",
    "            # df_sc_data = pd.DataFrame(data=sc_data, columns=['date', 'sc']).set_index('date')\n",
    "            df_sc_data = pd.DataFrame(data=sc_data, columns=['date', 'sc'])\n",
    "            df_sc_data.reset_index(inplace=True)\n",
    "            sc_date_range = pd.date_range(start=df_sc_data.date.values.min(), end=df_sc_data.date.values.max(), freq='MS')\n",
    "            df_sc = pd.DataFrame(sc_date_range, columns=['date'])\n",
    "            df_sc = df_sc.set_index('date')\n",
    "\n",
    "            # data_sc_rate = 70000\n",
    "            # str_column_name = 'TEST'\n",
    "\n",
    "            length = len(df_sc_data.index)\n",
    "            for i in range(length):\n",
    "                if i < length-1:\n",
    "                    date1 = df_sc_data.iloc[i,1]\n",
    "                    date2 = df_sc_data.iloc[i+1,1]\n",
    "                    sc_rate = df_sc_data.iloc[i,2]\n",
    "                    # print(f\"{date1} to {date2} is {sc_rate}\" )\n",
    "                    if data_sc_rate == 0:\n",
    "                        df_sc.loc[date1.strftime('%Y-%m-%d'):date2.strftime('%Y-%m-%d'), str_column_name] = 0\n",
    "                    elif data_sc_rate == 84100:\n",
    "                        df_sc.loc[date1.strftime('%Y-%m-%d'):date2.strftime('%Y-%m-%d'), str_column_name] = 84100\n",
    "                    else:\n",
    "                        df_sc.loc[date1.strftime('%Y-%m-%d'):date2.strftime('%Y-%m-%d'), str_column_name] = df_sc_data.loc[i, 'sc']\n",
    "            # ORIGINAL ----- END\n",
    "\n",
    "            df_sc_rate_temp = df_sc\n",
    "            df_sc = df_sc * data_area\n",
    "\n",
    "            df_tenant_service_charge = pd.DataFrame(tenant_date_range, columns=['date'])\n",
    "            df_tenant_service_charge = df_tenant_service_charge.set_index('date')\n",
    "            df_tenant_service_charge = df_tenant_service_charge.join(df_sc, how='left')\n",
    "            df_report_sc_charge = df_report_sc_charge.join(df_tenant_service_charge, how=\"left\")\n",
    "\n",
    "            df_tenant_service_charge_rate = pd.DataFrame(tenant_date_range, columns=['date'])\n",
    "            df_tenant_service_charge_rate = df_tenant_service_charge_rate.set_index('date')\n",
    "            df_tenant_service_charge_rate = df_tenant_service_charge_rate.join(df_sc_rate_temp, how='left')\n",
    "            df_report_sc_charge_rate = df_report_sc_charge_rate.join(df_tenant_service_charge_rate, how=\"left\")\n",
    "            # generate occupancy report\n",
    "            df_tenant_occupancy = pd.DataFrame(tenant_date_range, columns=['date'])\n",
    "            df_tenant_occupancy = df_tenant_occupancy.set_index('date')\n",
    "            df_tenant_occupancy[str_column_name] = data_area\n",
    "            df_report_occupancy = df_report_occupancy.join(df_tenant_occupancy, how=\"left\")\n",
    "\n",
    "        \n",
    "        else: # if vacant\n",
    "            # generate occupancy report\n",
    "            df_tenant_occupancy = pd.DataFrame(tenant_date_range, columns=['date'])\n",
    "            df_tenant_occupancy = df_tenant_occupancy.set_index('date')\n",
    "            df_tenant_occupancy[str_column_name] = -1.0\n",
    "            df_report_occupancy = df_report_occupancy.join(df_tenant_occupancy, how=\"left\")\n",
    "\n",
    "\n",
    "    # Clean dataframes\n",
    "    df_report_rental_charge.fillna(0, inplace=True)\n",
    "    df_report_sc_charge.fillna(0, inplace=True)\n",
    "    df_report_occupancy.fillna(0, inplace=True)\n",
    "\n",
    "    # sum each rows\n",
    "    df_report_rental_charge['sum'] = df_report_rental_charge.sum(axis=1)\n",
    "    df_report_sc_charge['sum'] = df_report_sc_charge.sum(axis=1)\n",
    "    df_report_occupancy['sum'] = df_report_occupancy.sum(axis=1)\n",
    "    \n",
    "    # create summary report\n",
    "    df_sum = pd.DataFrame()\n",
    "    df_sum['Rental'] = df_report_rental_charge.resample(report_sum).sum()['sum']\n",
    "    df_sum['SC'] = df_report_sc_charge.resample(report_sum).sum()['sum']\n",
    "    df_sum['Total'] = df_sum.sum(axis=1)\n",
    "\n",
    "    df_sum['Occ'] = df_report_occupancy.resample(report_sum).mean()['sum']\n",
    "    df_sum['OccPct'] = df_sum['Occ']/area_rentable_office\n",
    "    df_sum.reset_index(inplace=True)\n",
    "    return df_sum, df_report_rental_charge, df_report_sc_charge, df_report_occupancy, df_report_sc_charge_rate, df_pid_tenant_name_mapping\n"
   ]
  },
  {
   "cell_type": "code",
   "execution_count": null,
   "metadata": {},
   "outputs": [],
   "source": [
    "df_data_01 = read_worksheet_into_dataframe(sheet_data_01)\n",
    "df_data_02 = read_worksheet_into_dataframe(sheet_data_02)"
   ]
  },
  {
   "cell_type": "code",
   "execution_count": null,
   "metadata": {},
   "outputs": [],
   "source": [
    "df_sum_01, df_report_rental_charge_01, df_report_sc_charge_01, df_report_occupancy_01, df_report_sc_charge_rate_01, df_pid_tenant_name_mapping_01 = calculate_revenue(date_start_01, date_end_01, area_rentable_office_01, df_data_01, 'Office', 'Y')\n",
    "df_sum_02, df_report_rental_charge_02, df_report_sc_charge_02, df_report_occupancy_02, df_report_sc_charge_rate_02, df_pid_tenant_name_mapping_02 = calculate_revenue(date_start_02, date_end_02, area_rentable_office_02, df_data_02, 'Office', 'Y')"
   ]
  },
  {
   "cell_type": "markdown",
   "metadata": {},
   "source": [
    "## This is how to remove NaT"
   ]
  },
  {
   "cell_type": "code",
   "execution_count": null,
   "metadata": {},
   "outputs": [],
   "source": [
    "df_data_01.head(5).replace({np.nan: None},)"
   ]
  },
  {
   "cell_type": "markdown",
   "metadata": {},
   "source": [
    "## Format Style for dataframe"
   ]
  },
  {
   "cell_type": "code",
   "execution_count": null,
   "metadata": {},
   "outputs": [],
   "source": [
    "def format_time_nat(t, fmt='{:%Y.%m}'):\n",
    "    try:\n",
    "        return fmt.format(t)\n",
    "    except ValueError:\n",
    "        return t\n",
    "\n",
    "df_data_01.head(5).style.format(\n",
    "    {\n",
    "        \"Area\": \"{:20,.2f}\",\n",
    "        \"Rental_Rate\": \"{:20,.2f}\",\n",
    "        \"SC_Rate\": \"{:20,.0f}\",\n",
    "        \"Start\": format_time_nat,\n",
    "        \"End\": format_time_nat,\n",
    "        },\n",
    "    # {}\n",
    ")"
   ]
  },
  {
   "cell_type": "markdown",
   "metadata": {},
   "source": [
    "# STREAMLIT"
   ]
  },
  {
   "cell_type": "code",
   "execution_count": null,
   "metadata": {},
   "outputs": [],
   "source": [
    "st.set_page_config(layout = \"wide\")"
   ]
  },
  {
   "cell_type": "markdown",
   "metadata": {},
   "source": [
    "## B/W Heatmap"
   ]
  },
  {
   "cell_type": "code",
   "execution_count": null,
   "metadata": {},
   "outputs": [],
   "source": [
    "# B/W Heatmap of occupancy\n",
    "df_occ_stat = df_report_occupancy_01.drop(['sum'], axis = 1)\n",
    "new_col_names = df_pid_tenant_name_mapping_01['cust_name'].tolist()\n",
    "df_occ_stat.columns = new_col_names\n",
    "\n",
    "df_occ_stat.mask(df_occ_stat > 1, 1, inplace =True) # change to 0 and 1 (1 is for values greater than 0)\n"
   ]
  },
  {
   "cell_type": "code",
   "execution_count": null,
   "metadata": {},
   "outputs": [],
   "source": [
    "df_occ_stat[df_occ_stat.columns[::-1]] # reverse column order\n",
    "df_occupied = df_occ_stat.filter(regex=\"[a-zA-Z0-9]$\", axis=1)"
   ]
  },
  {
   "cell_type": "code",
   "execution_count": null,
   "metadata": {},
   "outputs": [],
   "source": [
    "fig4 = px.imshow(df_occupied[df_occupied.columns[::-1]].loc['2022':'2032'], color_continuous_scale=\"gray\", height=1000)\n",
    "fig4.update_traces(xgap = 1, ygap = 1)\n",
    "if show_fig:\n",
    "    fig4.show()"
   ]
  },
  {
   "cell_type": "code",
   "execution_count": null,
   "metadata": {},
   "outputs": [],
   "source": [
    "df_vacant = df_occ_stat.filter(regex=\"\\{Vacant\\}$\", axis=1)\n",
    "fig4 = px.imshow(df_vacant[df_vacant.columns[::-1]].loc['2022':'2032'], color_continuous_scale=\"gray\", height=1000)\n",
    "fig4.update_traces(xgap = 1, ygap = 1)\n",
    "if show_fig:\n",
    "    fig4.show()"
   ]
  },
  {
   "cell_type": "code",
   "execution_count": null,
   "metadata": {},
   "outputs": [],
   "source": [
    "\n",
    "# df_sum.to_excel('test1.xlsx')\n",
    "\n",
    "\n",
    "fig = px.bar(\n",
    "    df_sum_01,\n",
    "    x = 'date',\n",
    "    y = 'OccPct',\n",
    "    title = \"Occupancy Rates\",\n",
    "    height=500,\n",
    "    text_auto=True,\n",
    "    \n",
    ")\n",
    "fig.update_traces(marker=dict(line=dict(width=5)))\n",
    "fig.update_layout(xaxis_tickangle = -45)\n",
    "if show_fig:\n",
    "    fig.show()"
   ]
  },
  {
   "cell_type": "code",
   "execution_count": null,
   "metadata": {
    "scrolled": true
   },
   "outputs": [],
   "source": [
    "\n",
    "fig = px.bar(\n",
    "    df_sum_01,\n",
    "    x = 'date',\n",
    "    y = [\"Rental\", \"SC\"],\n",
    "    title = \"Revenue\",\n",
    "    labels = {'Rental':'Rp'},\n",
    ")\n",
    "fig.update_layout(xaxis_tickangle = -45)\n",
    "if show_fig:\n",
    "    fig.show()"
   ]
  },
  {
   "cell_type": "code",
   "execution_count": null,
   "metadata": {},
   "outputs": [],
   "source": [
    "df_sum_01.dtypes\n",
    "pd.to_datetime(df_sum_01['date'])"
   ]
  },
  {
   "cell_type": "markdown",
   "metadata": {},
   "source": [
    "# Write to Excel file for presentation"
   ]
  },
  {
   "cell_type": "code",
   "execution_count": null,
   "metadata": {},
   "outputs": [],
   "source": [
    "# write to excel file\n",
    "import xlwings as xw\n",
    "wb = xw.Book(output_filename)\n",
    "my_sheet = wb.sheets['TE Office']\n",
    "my_sheet.clear_contents()\n"
   ]
  },
  {
   "cell_type": "markdown",
   "metadata": {},
   "source": [
    "## Uncomment below to see monthly occupancy"
   ]
  },
  {
   "cell_type": "code",
   "execution_count": null,
   "metadata": {},
   "outputs": [],
   "source": [
    "# import xlwings as xw\n",
    "# wb10 = xw.Book()\n",
    "# # sht1 = wb.sheets['tenant']\n",
    "# sheet10 = wb10.sheets[0]\n",
    "# sheet10.range('A1').value = df_report_occupancy_01"
   ]
  },
  {
   "cell_type": "markdown",
   "metadata": {},
   "source": [
    "### Scenario 1"
   ]
  },
  {
   "cell_type": "code",
   "execution_count": null,
   "metadata": {},
   "outputs": [],
   "source": [
    "df_to_show = df_sum_01.copy()\n",
    "\n",
    "my_sheet.range('B3').value = df_to_show.transpose()\n",
    "my_sheet.range('C4:M4').number_format = 'yyyy'\n",
    "my_sheet.range('3:4').font.bold = True\n",
    "my_sheet.range('B:B').font.bold = True\n",
    "my_sheet.range('7:7').font.bold = True\n",
    "my_sheet.range('C5:M8').number_format = '0,00#'\n",
    "my_sheet.range('C9:M9').number_format = '0.00%'\n"
   ]
  },
  {
   "cell_type": "markdown",
   "metadata": {},
   "source": [
    "### Scenario 2"
   ]
  },
  {
   "cell_type": "code",
   "execution_count": null,
   "metadata": {},
   "outputs": [],
   "source": [
    "df_to_show = df_sum_02.copy()\n",
    "\n",
    "my_sheet.range('B12').value = df_to_show.transpose()\n",
    "my_sheet.range('C13:M13').number_format = 'yyyy'\n",
    "my_sheet.range('12:13').font.bold = True\n",
    "my_sheet.range('B:B').font.bold = True\n",
    "my_sheet.range('16:16').font.bold = True\n",
    "my_sheet.range('C14:M17').number_format = '0,00#'\n",
    "my_sheet.range('C18:M18').number_format = '0.00%'\n"
   ]
  },
  {
   "cell_type": "markdown",
   "metadata": {},
   "source": [
    "# Display result dataframe (formatted)"
   ]
  },
  {
   "cell_type": "code",
   "execution_count": null,
   "metadata": {},
   "outputs": [],
   "source": [
    "\n",
    "format_mapping = {\n",
    "    \"date\": \"{:%Y}\",\n",
    "    \"Rental\": \"Rp {:,.2f}\",\n",
    "    \"SC\": \"Rp {:,.2f}\",\n",
    "    \"Total\": \"Rp {:,.2f}\",\n",
    "    \"Occ\": \"{:,.2f} m2\",\n",
    "    \"OccPct\": \"{:,.2%}\",\n",
    "}\n",
    "\n",
    "# print dataframe\n",
    "df_sum_styled = df_sum_01.style.format(format_mapping)\n",
    "#df_sum_styled['date'] = df_sum_styled['date'].dt.strftime(\"%Y\")\n",
    "df_sum_styled\n"
   ]
  },
  {
   "cell_type": "code",
   "execution_count": null,
   "metadata": {},
   "outputs": [],
   "source": []
  },
  {
   "cell_type": "code",
   "execution_count": null,
   "metadata": {},
   "outputs": [],
   "source": [
    "\n",
    "# # Heatmap chart\n",
    "# df = df_report_rental_charge.loc['2023']\n",
    "# df = df.drop(['sum'], axis = 1)\n",
    "# df = df.T\n",
    "# fig2 = px.density_heatmap(df)\n",
    "# fig2.show()\n"
   ]
  },
  {
   "cell_type": "code",
   "execution_count": null,
   "metadata": {},
   "outputs": [],
   "source": [
    "\n",
    "# fig3 = px.colors.qualitative.swatches()\n",
    "# fig3.show()\n"
   ]
  },
  {
   "cell_type": "code",
   "execution_count": null,
   "metadata": {},
   "outputs": [],
   "source": [
    "# df.filter(regex='vacant', axis=1)"
   ]
  },
  {
   "cell_type": "code",
   "execution_count": null,
   "metadata": {},
   "outputs": [],
   "source": [
    "# df.head(5)"
   ]
  },
  {
   "cell_type": "code",
   "execution_count": null,
   "metadata": {},
   "outputs": [],
   "source": [
    "# # write to excel file\n",
    "# import xlwings as xw\n",
    "\n",
    "# wb = xw.Book()\n",
    "# wb.sheets.add('1')\n",
    "\n",
    "# my_sheet = wb.sheets['1']\n",
    "# my_sheet.range('B3').value = df_report_sc_charge_rate\n",
    "# wb.sheets.add('2')\n",
    "# my_sheet2 = wb.sheets['2']\n",
    "# my_sheet2.range('B3').value = df_report_sc_charge\n"
   ]
  }
 ],
 "metadata": {
  "kernelspec": {
   "display_name": "Python 3 (ipykernel)",
   "language": "python",
   "name": "python3"
  },
  "language_info": {
   "codemirror_mode": {
    "name": "ipython",
    "version": 3
   },
   "file_extension": ".py",
   "mimetype": "text/x-python",
   "name": "python",
   "nbconvert_exporter": "python",
   "pygments_lexer": "ipython3",
   "version": "3.11.5"
  },
  "vscode": {
   "interpreter": {
    "hash": "014a02500e211e28d531170e8cb56cda6c998cd88f7c76ddba6c914727fb4047"
   }
  }
 },
 "nbformat": 4,
 "nbformat_minor": 2
}
