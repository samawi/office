{
 "cells": [
  {
   "cell_type": "code",
   "execution_count": 1,
   "metadata": {},
   "outputs": [],
   "source": [
    "\n",
    "import openpyxl\n",
    "import pandas as pd\n",
    "from datetime import datetime, timedelta, date\n",
    "from dateutil.relativedelta import relativedelta\n"
   ]
  },
  {
   "cell_type": "code",
   "execution_count": 2,
   "metadata": {},
   "outputs": [],
   "source": [
    "# read excel file\n",
    "\n",
    "excel_file = \"tenancy_list_30aug2022.xlsx\"\n",
    "# you may put validations here to check extension or file size\n",
    "wb = openpyxl.load_workbook(excel_file, data_only=True)\n",
    "\n",
    "# getting all sheets\n",
    "sheets = wb.sheetnames\n"
   ]
  },
  {
   "cell_type": "code",
   "execution_count": 3,
   "metadata": {},
   "outputs": [],
   "source": [
    "# getting a particular sheet\n",
    "sheet_params = wb[\"params\"]\n",
    "sheet_data = wb[\"tenant\"]\n",
    "sheet_rental = wb[\"rental\"]\n",
    "sheet_yearly_rental = wb[\"yearly_rental\"]\n",
    "sheet_sc = wb[\"sc\"]\n",
    "sheet_yearly_sc = wb[\"yearly_sc\"]\n",
    "sheet_total = wb[\"total_rev\"]\n",
    "sheet_occ = wb[\"occ_rate\"]\n",
    "\n",
    "#print(sheet_params)\n",
    "\n",
    "# getting active sheet\n",
    "#active_sheet = wb.active\n",
    "#print(active_sheet)\n"
   ]
  },
  {
   "cell_type": "code",
   "execution_count": 4,
   "metadata": {},
   "outputs": [
    {
     "name": "stdout",
     "output_type": "stream",
     "text": [
      "Start Date: 2022-01-01 00:00:00\n",
      "End Date: 2032-12-31 00:00:00\n",
      "rentable Office Area: 59081.56\n",
      "Sum Report: M\n"
     ]
    }
   ],
   "source": [
    "# reading parameters\n",
    "date_start = sheet_params[\"C4\"].value\n",
    "date_end = sheet_params['C5'].value\n",
    "area_rentable_office = sheet_params[\"C6\"].value\n",
    "report_sum = sheet_params[\"C7\"].value\n",
    "\n",
    "# set excel column name for values\n",
    "# level_addr_col = 'B'        # Floor\n",
    "# zone_addr_col = 'C'         # Zone\n",
    "# area_addr_col = 'E'         # Area\n",
    "# rental_rate_addr_col = 'H'  # Rental rate\n",
    "# sc_rate_addr_col = 'I'      # SC rate\n",
    "# lcd_addr_col = 'F'          # LCD\n",
    "# led_addr_col = 'G'          # LED\n",
    "# start_show_col = 'M'\n",
    "\n",
    "print(f\"Start Date: {date_start}\")\n",
    "print(f\"End Date: {date_end}\")\n",
    "print(f\"rentable Office Area: {area_rentable_office}\")\n",
    "print(f\"Sum Report: {report_sum}\")\n"
   ]
  },
  {
   "cell_type": "code",
   "execution_count": 5,
   "metadata": {},
   "outputs": [],
   "source": [
    "# generate reporting daterange based on start and end dates\n",
    "my_reporting_date_range = pd.date_range(start=date_start, end=date_end, freq='MS')\n",
    "\n",
    "# Create report dataframe using datetime index for period\n",
    "df_report_rental_charge = pd.DataFrame(my_reporting_date_range, columns=['date'])   # Rental revenue\n",
    "df_report_sc_charge = pd.DataFrame(my_reporting_date_range, columns=['date'])       # Service charge revenue\n",
    "df_report_occupancy = pd.DataFrame(my_reporting_date_range, columns=['date'])       # Occupancy rate\n",
    "\n",
    "# Set 'date' as the index\n",
    "df_report_rental_charge = df_report_rental_charge.set_index('date')\n",
    "df_report_sc_charge = df_report_sc_charge.set_index('date')\n",
    "df_report_occupancy = df_report_occupancy.set_index('date')"
   ]
  },
  {
   "cell_type": "markdown",
   "metadata": {},
   "source": [
    "**Note:**\n",
    "Below are the service charges from 2018 until 2028"
   ]
  },
  {
   "cell_type": "code",
   "execution_count": 6,
   "metadata": {},
   "outputs": [],
   "source": [
    "# Calculate how much is SC rate based on months and years\n",
    "# April 2022: 75000\n",
    "# April 2024: 80000\n",
    "# April 2026: 85000\n",
    "\n",
    "sc_data = [\n",
    "    [datetime(2018, 4, 1), 65000.00],\n",
    "    [datetime(2020, 4, 1), 70000.00],\n",
    "    [datetime(2022, 4, 1), 70000.00],\n",
    "    [datetime(2024, 4, 1), 75000.00],\n",
    "    [datetime(2026, 4, 1), 80000.00],\n",
    "    [datetime(2028, 4, 1), 85000.00]\n",
    "]\n",
    "\n",
    "df_sc_data = pd.DataFrame(data=sc_data, columns=['date', 'sc']).set_index('date')"
   ]
  },
  {
   "cell_type": "code",
   "execution_count": 7,
   "metadata": {},
   "outputs": [],
   "source": [
    "# Read a sheet into dataframe\n",
    "\n",
    "from itertools import islice\n",
    "data = sheet_data.values\n",
    "cols = next(data)[1:]\n",
    "data = list(data)\n",
    "#idx = [r[0] for r in data]\n",
    "data = (islice(r, 1, None) for r in data)\n",
    "df_data = pd.DataFrame(data, columns=cols)\n",
    "\n",
    "# drop rows where column Tenant is Null/NA\n",
    "df_data = df_data[df_data['Tenant'].notna()]"
   ]
  },
  {
   "cell_type": "markdown",
   "metadata": {},
   "source": [
    "## Code Experiment\n",
    "### START"
   ]
  },
  {
   "cell_type": "code",
   "execution_count": 8,
   "metadata": {},
   "outputs": [],
   "source": [
    "#df_data.loc[0, \"Area\"]"
   ]
  },
  {
   "cell_type": "code",
   "execution_count": 9,
   "metadata": {},
   "outputs": [],
   "source": [
    "#df_data.at[0, \"Area\"]"
   ]
  },
  {
   "cell_type": "code",
   "execution_count": 10,
   "metadata": {},
   "outputs": [],
   "source": [
    "#df_data.iloc[3:5, 0:2]"
   ]
  },
  {
   "cell_type": "code",
   "execution_count": 11,
   "metadata": {},
   "outputs": [],
   "source": [
    "#df_data.iloc[3,:]"
   ]
  },
  {
   "cell_type": "code",
   "execution_count": 12,
   "metadata": {},
   "outputs": [],
   "source": [
    "#df_data.iat[0,3]"
   ]
  },
  {
   "cell_type": "markdown",
   "metadata": {},
   "source": [
    "### Iterating every rows"
   ]
  },
  {
   "cell_type": "code",
   "execution_count": 13,
   "metadata": {},
   "outputs": [],
   "source": [
    "#for index, row in df.iterrows():\n",
    "#    print(row['Floor'])"
   ]
  },
  {
   "cell_type": "markdown",
   "metadata": {},
   "source": [
    "### END"
   ]
  },
  {
   "cell_type": "code",
   "execution_count": 14,
   "metadata": {},
   "outputs": [],
   "source": [
    "substring = '-'\n",
    "\n",
    "for index, row in df_data.iterrows():\n",
    "    vacant = False\n",
    "    \n",
    "    data_area = row['Area']\n",
    "    data_rental_rate = row['Rental_Rate']\n",
    "    data_sc_rate = row['SC_Rate']\n",
    "    tenant_name = row['Tenant']\n",
    "\n",
    "    if (data_area == None) or (substring in str(data_area)):\n",
    "        data_area = 0.0\n",
    "\n",
    "    if (data_rental_rate == None) or (substring in str(data_rental_rate)):\n",
    "        data_rental_rate = 0.0\n",
    "\n",
    "    if (data_sc_rate == None) or (substring in str(data_sc_rate)):\n",
    "        data_sc_rate = 0.0\n",
    "\n",
    "    # calculate monthly rental and service charge\n",
    "    calc_rental_charge = data_area * data_rental_rate\n",
    "    calc_service_charge = data_area * data_sc_rate\n",
    "\n",
    "    start = row[\"Start\"]\n",
    "    end = row[\"End\"]\n",
    "\n",
    "    if (pd.isna(end)) or (end == '-'):\n",
    "        vacant = True\n",
    "        end = date_end\n",
    "\n",
    "    if not vacant:\n",
    "        if (pd.isna(start)) or (start == '-'):\n",
    "            start = date_start\n",
    "\n",
    "        str_level = str(row['Floor']).split('.')[0]\n",
    "        str_zone = str(row['Zone'])\n",
    "    \n",
    "        if (str_level == 'None'):\n",
    "            str_level = 'NA'\n",
    "        if (str_zone == 'None'):\n",
    "            str_zone = 'NA'\n",
    "\n",
    "        # join them\n",
    "        str_sep = '-'\n",
    "        str_temps = [str(str_level), str(str_zone), str(index)]\n",
    "        str_column_name = str_sep.join(str_temps)\n",
    "\n",
    "        tenant_date_range = pd.date_range(start=start, end=end, freq='MS')\n",
    "\n",
    "        # generate rental charge\n",
    "        df_tenant_rental_charge = pd.DataFrame(tenant_date_range, columns=['date']) # create new df with only 1 column called 'date' and fill with the date range from lcd to led\n",
    "        df_tenant_rental_charge = df_tenant_rental_charge.set_index('date') # set 'date' as the index\n",
    "        df_tenant_rental_charge[str_column_name] = calc_rental_charge # add a new column called <num> and fill all with the rental_charge value\n",
    "        df_report_rental_charge = df_report_rental_charge.join(df_tenant_rental_charge, how=\"left\")\n",
    "\n",
    "        # generate service charge report\n",
    "        df_sc_data = pd.DataFrame(data=sc_data, columns=['date', 'sc']).set_index('date')\n",
    "        sc_date_range = pd.date_range(start=df_sc_data.index.values.min(), end=df_sc_data.index.values.max(), freq='D')\n",
    "        df_sc = pd.DataFrame(sc_date_range, columns=['date'])\n",
    "        df_sc = df_sc.set_index('date')\n",
    "\n",
    "        for mydate in df_sc_data.index:\n",
    "            date1 = mydate\n",
    "            date2 = mydate+relativedelta(years=2)-relativedelta(days=1)\n",
    "            #print('{0} - {1}'.format(date1.strftime('%Y-%m-%d'), date2.strftime('%Y-%m-%d')))\n",
    "            if data_sc_rate == 0:\n",
    "                df_sc.loc[date1.strftime('%Y-%m-%d'):date2.strftime('%Y-%m-%d'), str_column_name] = 0\n",
    "            elif data_sc_rate == 84100:\n",
    "                df_sc.loc[date1.strftime('%Y-%m-%d'):date2.strftime('%Y-%m-%d'), str_column_name] = 84100\n",
    "            else:\n",
    "                df_sc.loc[date1.strftime('%Y-%m-%d'):date2.strftime('%Y-%m-%d'), str_column_name] = df_sc_data.loc[mydate, 'sc']\n",
    "\n",
    "\n",
    "        df_sc = df_sc * data_area\n",
    "        tenant_date_range = pd.date_range(start=start, end=end, freq='MS')\n",
    "\n",
    "        df_tenant_service_charge = pd.DataFrame(tenant_date_range, columns=['date'])\n",
    "        df_tenant_service_charge = df_tenant_service_charge.set_index('date')\n",
    "        df_tenant_service_charge = df_tenant_service_charge.join(df_sc, how='left')\n",
    "        df_report_sc_charge = df_report_sc_charge.join(df_tenant_service_charge, how=\"left\")\n",
    "\n",
    "\n",
    "        # df_tenant_service_charge = pd.DataFrame(tenant_date_range, columns=['date'])\n",
    "        # df_tenant_service_charge = df_tenant_service_charge.set_index('date')\n",
    "        # df_tenant_service_charge[str_column_name] = service_charge\n",
    "        # df_report_sc_charge = df_report_sc_charge.join(df_tenant_service_charge, how=\"left\")\n",
    "\n",
    "        # generate occupancy report\n",
    "        df_tenant_occupancy = pd.DataFrame(tenant_date_range, columns=['date'])\n",
    "        df_tenant_occupancy = df_tenant_occupancy.set_index('date')\n",
    "        df_tenant_occupancy[str_column_name] = data_area\n",
    "        df_report_occupancy = df_report_occupancy.join(df_tenant_occupancy, how=\"left\")\n"
   ]
  },
  {
   "cell_type": "code",
   "execution_count": 15,
   "metadata": {},
   "outputs": [],
   "source": [
    "# Clean dataframes\n",
    "df_report_rental_charge.fillna(0, inplace=True)\n",
    "df_report_sc_charge.fillna(0, inplace=True)\n",
    "df_report_occupancy.fillna(0, inplace=True)\n"
   ]
  },
  {
   "cell_type": "code",
   "execution_count": 16,
   "metadata": {},
   "outputs": [],
   "source": [
    "# sum each rows\n",
    "df_report_rental_charge['sum'] = df_report_rental_charge.sum(axis=1)\n",
    "df_report_sc_charge['sum'] = df_report_sc_charge.sum(axis=1)\n",
    "df_report_occupancy['sum'] = df_report_occupancy.sum(axis=1)"
   ]
  },
  {
   "cell_type": "code",
   "execution_count": 17,
   "metadata": {},
   "outputs": [],
   "source": [
    "# create summary report\n",
    "df_sum = pd.DataFrame()\n",
    "df_sum['Rental'] = df_report_rental_charge.resample(report_sum).sum()['sum']\n",
    "df_sum['SC'] = df_report_sc_charge.resample(report_sum).sum()['sum']\n",
    "df_sum['Total'] = df_sum.sum(axis=1)\n",
    "\n",
    "df_sum['Occ'] = df_report_occupancy.resample(report_sum).sum()['sum']\n",
    "df_sum['OccPct'] = df_sum['Occ']/area_rentable_office\n"
   ]
  },
  {
   "cell_type": "code",
   "execution_count": 18,
   "metadata": {},
   "outputs": [],
   "source": [
    "df_sum.reset_index(inplace=True)"
   ]
  },
  {
   "cell_type": "code",
   "execution_count": 19,
   "metadata": {},
   "outputs": [
    {
     "data": {
      "text/html": [
       "<div>\n",
       "<style scoped>\n",
       "    .dataframe tbody tr th:only-of-type {\n",
       "        vertical-align: middle;\n",
       "    }\n",
       "\n",
       "    .dataframe tbody tr th {\n",
       "        vertical-align: top;\n",
       "    }\n",
       "\n",
       "    .dataframe thead th {\n",
       "        text-align: right;\n",
       "    }\n",
       "</style>\n",
       "<table border=\"1\" class=\"dataframe\">\n",
       "  <thead>\n",
       "    <tr style=\"text-align: right;\">\n",
       "      <th></th>\n",
       "      <th>date</th>\n",
       "      <th>Rental</th>\n",
       "      <th>SC</th>\n",
       "      <th>Total</th>\n",
       "      <th>Occ</th>\n",
       "      <th>OccPct</th>\n",
       "    </tr>\n",
       "  </thead>\n",
       "  <tbody>\n",
       "    <tr>\n",
       "      <th>0</th>\n",
       "      <td>2022-01-31</td>\n",
       "      <td>1.703865e+10</td>\n",
       "      <td>3.566118e+09</td>\n",
       "      <td>2.060477e+10</td>\n",
       "      <td>47549.745343</td>\n",
       "      <td>0.804815</td>\n",
       "    </tr>\n",
       "    <tr>\n",
       "      <th>1</th>\n",
       "      <td>2022-02-28</td>\n",
       "      <td>1.703865e+10</td>\n",
       "      <td>3.566118e+09</td>\n",
       "      <td>2.060477e+10</td>\n",
       "      <td>47549.745343</td>\n",
       "      <td>0.804815</td>\n",
       "    </tr>\n",
       "    <tr>\n",
       "      <th>2</th>\n",
       "      <td>2022-03-31</td>\n",
       "      <td>1.703865e+10</td>\n",
       "      <td>3.566118e+09</td>\n",
       "      <td>2.060477e+10</td>\n",
       "      <td>47549.745343</td>\n",
       "      <td>0.804815</td>\n",
       "    </tr>\n",
       "    <tr>\n",
       "      <th>3</th>\n",
       "      <td>2022-04-30</td>\n",
       "      <td>1.703865e+10</td>\n",
       "      <td>3.556493e+09</td>\n",
       "      <td>2.059514e+10</td>\n",
       "      <td>47412.235343</td>\n",
       "      <td>0.802488</td>\n",
       "    </tr>\n",
       "    <tr>\n",
       "      <th>4</th>\n",
       "      <td>2022-05-31</td>\n",
       "      <td>1.706410e+10</td>\n",
       "      <td>3.566132e+09</td>\n",
       "      <td>2.063023e+10</td>\n",
       "      <td>47549.945343</td>\n",
       "      <td>0.804819</td>\n",
       "    </tr>\n",
       "    <tr>\n",
       "      <th>...</th>\n",
       "      <td>...</td>\n",
       "      <td>...</td>\n",
       "      <td>...</td>\n",
       "      <td>...</td>\n",
       "      <td>...</td>\n",
       "      <td>...</td>\n",
       "    </tr>\n",
       "    <tr>\n",
       "      <th>127</th>\n",
       "      <td>2032-08-31</td>\n",
       "      <td>0.000000e+00</td>\n",
       "      <td>0.000000e+00</td>\n",
       "      <td>0.000000e+00</td>\n",
       "      <td>0.000000</td>\n",
       "      <td>0.000000</td>\n",
       "    </tr>\n",
       "    <tr>\n",
       "      <th>128</th>\n",
       "      <td>2032-09-30</td>\n",
       "      <td>0.000000e+00</td>\n",
       "      <td>0.000000e+00</td>\n",
       "      <td>0.000000e+00</td>\n",
       "      <td>0.000000</td>\n",
       "      <td>0.000000</td>\n",
       "    </tr>\n",
       "    <tr>\n",
       "      <th>129</th>\n",
       "      <td>2032-10-31</td>\n",
       "      <td>0.000000e+00</td>\n",
       "      <td>0.000000e+00</td>\n",
       "      <td>0.000000e+00</td>\n",
       "      <td>0.000000</td>\n",
       "      <td>0.000000</td>\n",
       "    </tr>\n",
       "    <tr>\n",
       "      <th>130</th>\n",
       "      <td>2032-11-30</td>\n",
       "      <td>0.000000e+00</td>\n",
       "      <td>0.000000e+00</td>\n",
       "      <td>0.000000e+00</td>\n",
       "      <td>0.000000</td>\n",
       "      <td>0.000000</td>\n",
       "    </tr>\n",
       "    <tr>\n",
       "      <th>131</th>\n",
       "      <td>2032-12-31</td>\n",
       "      <td>0.000000e+00</td>\n",
       "      <td>0.000000e+00</td>\n",
       "      <td>0.000000e+00</td>\n",
       "      <td>0.000000</td>\n",
       "      <td>0.000000</td>\n",
       "    </tr>\n",
       "  </tbody>\n",
       "</table>\n",
       "<p>132 rows × 6 columns</p>\n",
       "</div>"
      ],
      "text/plain": [
       "          date        Rental            SC         Total           Occ  \\\n",
       "0   2022-01-31  1.703865e+10  3.566118e+09  2.060477e+10  47549.745343   \n",
       "1   2022-02-28  1.703865e+10  3.566118e+09  2.060477e+10  47549.745343   \n",
       "2   2022-03-31  1.703865e+10  3.566118e+09  2.060477e+10  47549.745343   \n",
       "3   2022-04-30  1.703865e+10  3.556493e+09  2.059514e+10  47412.235343   \n",
       "4   2022-05-31  1.706410e+10  3.566132e+09  2.063023e+10  47549.945343   \n",
       "..         ...           ...           ...           ...           ...   \n",
       "127 2032-08-31  0.000000e+00  0.000000e+00  0.000000e+00      0.000000   \n",
       "128 2032-09-30  0.000000e+00  0.000000e+00  0.000000e+00      0.000000   \n",
       "129 2032-10-31  0.000000e+00  0.000000e+00  0.000000e+00      0.000000   \n",
       "130 2032-11-30  0.000000e+00  0.000000e+00  0.000000e+00      0.000000   \n",
       "131 2032-12-31  0.000000e+00  0.000000e+00  0.000000e+00      0.000000   \n",
       "\n",
       "       OccPct  \n",
       "0    0.804815  \n",
       "1    0.804815  \n",
       "2    0.804815  \n",
       "3    0.802488  \n",
       "4    0.804819  \n",
       "..        ...  \n",
       "127  0.000000  \n",
       "128  0.000000  \n",
       "129  0.000000  \n",
       "130  0.000000  \n",
       "131  0.000000  \n",
       "\n",
       "[132 rows x 6 columns]"
      ]
     },
     "execution_count": 19,
     "metadata": {},
     "output_type": "execute_result"
    }
   ],
   "source": [
    "df_sum"
   ]
  },
  {
   "cell_type": "code",
   "execution_count": 20,
   "metadata": {},
   "outputs": [
    {
     "name": "stdout",
     "output_type": "stream",
     "text": [
      "<class 'pandas.core.frame.DataFrame'>\n",
      "RangeIndex: 132 entries, 0 to 131\n",
      "Data columns (total 6 columns):\n",
      " #   Column  Non-Null Count  Dtype         \n",
      "---  ------  --------------  -----         \n",
      " 0   date    132 non-null    datetime64[ns]\n",
      " 1   Rental  132 non-null    float64       \n",
      " 2   SC      132 non-null    float64       \n",
      " 3   Total   132 non-null    float64       \n",
      " 4   Occ     132 non-null    float64       \n",
      " 5   OccPct  132 non-null    float64       \n",
      "dtypes: datetime64[ns](1), float64(5)\n",
      "memory usage: 6.3 KB\n"
     ]
    }
   ],
   "source": [
    "df_sum.info()"
   ]
  },
  {
   "cell_type": "code",
   "execution_count": null,
   "metadata": {},
   "outputs": [],
   "source": [
    "df_test = df_report_rental_charge.T"
   ]
  },
  {
   "cell_type": "code",
   "execution_count": null,
   "metadata": {},
   "outputs": [],
   "source": [
    "df = df_report_rental_charge.loc['2023']\n",
    "df = df.drop(['sum'], axis = 1)\n",
    "df = df.T"
   ]
  }
 ],
 "metadata": {
  "kernelspec": {
   "display_name": "Python 3.10.6 ('office-revenues')",
   "language": "python",
   "name": "python3"
  },
  "language_info": {
   "codemirror_mode": {
    "name": "ipython",
    "version": 3
   },
   "file_extension": ".py",
   "mimetype": "text/x-python",
   "name": "python",
   "nbconvert_exporter": "python",
   "pygments_lexer": "ipython3",
   "version": "3.10.6"
  },
  "orig_nbformat": 4,
  "vscode": {
   "interpreter": {
    "hash": "014a02500e211e28d531170e8cb56cda6c998cd88f7c76ddba6c914727fb4047"
   }
  }
 },
 "nbformat": 4,
 "nbformat_minor": 2
}
